{
 "cells": [
  {
   "cell_type": "code",
   "execution_count": 11,
   "id": "7867c13a-3e16-4671-8ff1-b8b1fa2c9b87",
   "metadata": {},
   "outputs": [
    {
     "name": "stdout",
     "output_type": "stream",
     "text": [
      "            Hours Studied\n",
      "2025-01-05              8\n",
      "2025-01-12             15\n",
      "2025-01-19              9\n",
      "2025-01-26             17\n",
      "You studied for 49 hours this month\n"
     ]
    }
   ],
   "source": [
    "import pandas as pd \n",
    "import numpy as np \n",
    "index = pd.date_range(start='1-1-2025',end='31-1-2025',freq='W')\n",
    "hours_studied = np.random.randint(5,20,size=len(index))\n",
    "df = pd.DataFrame(data={\"Hours Studied\":hours_studied},index=index)\n",
    "studied_total = hours_studied.sum()\n",
    "print(df)\n",
    "print(\"You studied for\",studied_total,\"hours this month\")"
   ]
  },
  {
   "cell_type": "code",
   "execution_count": 20,
   "id": "c5faa084-b122-4774-8ec7-613a0e17b699",
   "metadata": {},
   "outputs": [
    {
     "data": {
      "text/html": [
       "<div>\n",
       "<style scoped>\n",
       "    .dataframe tbody tr th:only-of-type {\n",
       "        vertical-align: middle;\n",
       "    }\n",
       "\n",
       "    .dataframe tbody tr th {\n",
       "        vertical-align: top;\n",
       "    }\n",
       "\n",
       "    .dataframe thead th {\n",
       "        text-align: right;\n",
       "    }\n",
       "</style>\n",
       "<table border=\"1\" class=\"dataframe\">\n",
       "  <thead>\n",
       "    <tr style=\"text-align: right;\">\n",
       "      <th></th>\n",
       "      <th>Date</th>\n",
       "      <th>Year</th>\n",
       "      <th>day</th>\n",
       "      <th>weekday</th>\n",
       "      <th>month</th>\n",
       "      <th>Day Of Year</th>\n",
       "    </tr>\n",
       "  </thead>\n",
       "  <tbody>\n",
       "    <tr>\n",
       "      <th>0</th>\n",
       "      <td>2024-01-15</td>\n",
       "      <td>2024</td>\n",
       "      <td>15</td>\n",
       "      <td>0</td>\n",
       "      <td>1</td>\n",
       "      <td>15</td>\n",
       "    </tr>\n",
       "    <tr>\n",
       "      <th>1</th>\n",
       "      <td>2024-02-20</td>\n",
       "      <td>2024</td>\n",
       "      <td>20</td>\n",
       "      <td>1</td>\n",
       "      <td>2</td>\n",
       "      <td>51</td>\n",
       "    </tr>\n",
       "    <tr>\n",
       "      <th>2</th>\n",
       "      <td>2024-03-25</td>\n",
       "      <td>2024</td>\n",
       "      <td>25</td>\n",
       "      <td>0</td>\n",
       "      <td>3</td>\n",
       "      <td>85</td>\n",
       "    </tr>\n",
       "    <tr>\n",
       "      <th>3</th>\n",
       "      <td>2024-04-10</td>\n",
       "      <td>2024</td>\n",
       "      <td>10</td>\n",
       "      <td>2</td>\n",
       "      <td>4</td>\n",
       "      <td>101</td>\n",
       "    </tr>\n",
       "    <tr>\n",
       "      <th>4</th>\n",
       "      <td>2024-05-05</td>\n",
       "      <td>2024</td>\n",
       "      <td>5</td>\n",
       "      <td>6</td>\n",
       "      <td>5</td>\n",
       "      <td>126</td>\n",
       "    </tr>\n",
       "  </tbody>\n",
       "</table>\n",
       "</div>"
      ],
      "text/plain": [
       "        Date  Year  day  weekday  month  Day Of Year\n",
       "0 2024-01-15  2024   15        0      1           15\n",
       "1 2024-02-20  2024   20        1      2           51\n",
       "2 2024-03-25  2024   25        0      3           85\n",
       "3 2024-04-10  2024   10        2      4          101\n",
       "4 2024-05-05  2024    5        6      5          126"
      ]
     },
     "execution_count": 20,
     "metadata": {},
     "output_type": "execute_result"
    }
   ],
   "source": [
    "dates = pd.to_datetime(['2024-01-15', '2024-02-20', '2024-03-25', '2024-04-10', '2024-05-05'])\n",
    "df = pd.DataFrame({'Date': dates})\n",
    "df['Year'] = df['Date'].dt.year\n",
    "df['day'] = df['Date'].dt.day\n",
    "df['weekday'] = df['Date'].dt.weekday\n",
    "df['month'] = df['Date'].dt.month\n",
    "df['Day Of Year'] = df['Date'].dt.dayofyear\n",
    "df"
   ]
  },
  {
   "cell_type": "code",
   "execution_count": 21,
   "id": "d275b05e-f56b-458f-bb87-09aa3b98f0a0",
   "metadata": {},
   "outputs": [
    {
     "data": {
      "text/plain": [
       "0          NaT\n",
       "1          NaT\n",
       "2   2024-01-15\n",
       "3   2024-02-20\n",
       "4   2024-03-25\n",
       "Name: Date, dtype: datetime64[ns]"
      ]
     },
     "execution_count": 21,
     "metadata": {},
     "output_type": "execute_result"
    }
   ],
   "source": [
    "date_shift = df['Date'].shift(2)\n",
    "date_shift"
   ]
  },
  {
   "cell_type": "code",
   "execution_count": null,
   "id": "b0085501-8ecc-4069-b35a-b996a2d9259f",
   "metadata": {},
   "outputs": [],
   "source": []
  }
 ],
 "metadata": {
  "kernelspec": {
   "display_name": "Python 3 (ipykernel)",
   "language": "python",
   "name": "python3"
  },
  "language_info": {
   "codemirror_mode": {
    "name": "ipython",
    "version": 3
   },
   "file_extension": ".py",
   "mimetype": "text/x-python",
   "name": "python",
   "nbconvert_exporter": "python",
   "pygments_lexer": "ipython3",
   "version": "3.12.4"
  }
 },
 "nbformat": 4,
 "nbformat_minor": 5
}
