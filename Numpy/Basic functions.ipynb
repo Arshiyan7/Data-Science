{
 "cells": [
  {
   "cell_type": "code",
   "execution_count": 1,
   "id": "ace4ccc3-80e0-42f0-b6f8-ede5431c3595",
   "metadata": {},
   "outputs": [
    {
     "data": {
      "text/plain": [
       "array([ 1,  2,  3,  4,  5,  6,  7,  8,  9, 10])"
      ]
     },
     "execution_count": 1,
     "metadata": {},
     "output_type": "execute_result"
    }
   ],
   "source": [
    "import numpy as np \n",
    "#Basic 1D array\n",
    "array = np.array([1,2,3,4,5,6,7,8,9,10])\n",
    "array"
   ]
  },
  {
   "cell_type": "code",
   "execution_count": 2,
   "id": "925e37fe-e8f6-46e6-a384-10366d8ff663",
   "metadata": {},
   "outputs": [
    {
     "data": {
      "text/plain": [
       "array([[ 1,  2,  3,  4,  5],\n",
       "       [ 6,  7,  8,  9, 10]])"
      ]
     },
     "execution_count": 2,
     "metadata": {},
     "output_type": "execute_result"
    }
   ],
   "source": [
    "#2D array\n",
    "t_array = np.array([[1,2,3,4,5],[6,7,8,9,10]])\n",
    "t_array"
   ]
  },
  {
   "cell_type": "code",
   "execution_count": 7,
   "id": "4be12eea-e763-4b24-9db9-e92cc3b87298",
   "metadata": {},
   "outputs": [
    {
     "data": {
      "text/plain": [
       "array([ 0,  5, 10, 15])"
      ]
     },
     "execution_count": 7,
     "metadata": {},
     "output_type": "execute_result"
    }
   ],
   "source": [
    "#Arange \n",
    "arange = np.arange(0,20,5)\n",
    "arange"
   ]
  },
  {
   "cell_type": "code",
   "execution_count": 17,
   "id": "0c13a841-0fbd-4818-be12-d5701600fcd8",
   "metadata": {},
   "outputs": [
    {
     "name": "stdout",
     "output_type": "stream",
     "text": [
      "Simple 10 zeroes: [0. 0. 0. 0. 0. 0. 0. 0. 0. 0.]\n",
      "2d zeroes: [[0. 0. 0. 0. 0.]\n",
      " [0. 0. 0. 0. 0.]]\n"
     ]
    }
   ],
   "source": [
    "#syntax for 1d zeros-> np.zeros(zeros how many time)\n",
    "#syntax for 2d zeros-> np.zeros((which dimension, zeros how many times))\n",
    "zeros = np.zeros(10)\n",
    "print(\"Simple 10 zeroes:\" ,zeroes)\n",
    "t_zeros = np.zeros((2,5))\n",
    "print(\"2d zeroes:\" ,t_zeros)"
   ]
  },
  {
   "cell_type": "code",
   "execution_count": 20,
   "id": "29fdfe15-7d85-4b3e-a8f8-1054ed4711e4",
   "metadata": {},
   "outputs": [
    {
     "name": "stdout",
     "output_type": "stream",
     "text": [
      "Simple:  [6 6 6 6 6 6 6 6 6 6]\n",
      "2D no 7 repeated 10 times:  [[7 7 7 7 7 7 7 7 7 7]\n",
      " [7 7 7 7 7 7 7 7 7 7]]\n"
     ]
    }
   ],
   "source": [
    "#syntax -> np.full(how many time,which number)\n",
    "#syntax 2D -> np.full((which dimension, how many times),which number)\n",
    "full = np.full(10,6)\n",
    "print(\"Simple: \",full)\n",
    "itr_full = np.full((2,10),7)\n",
    "print(\"2D no 7 repeated 10 times: \",itr_full)"
   ]
  },
  {
   "cell_type": "code",
   "execution_count": 21,
   "id": "a66ff0a8-ed18-4a5b-8167-4467b9476e55",
   "metadata": {},
   "outputs": [
    {
     "name": "stdout",
     "output_type": "stream",
     "text": [
      "Converted to list successfully:  [1 2 3 4 5 6]\n"
     ]
    }
   ],
   "source": [
    "#converting python list to np array\n",
    "list = [1,2,3,4,5,6]\n",
    "to_numpyArr = np.array(list)\n",
    "print(\"Converted to list successfully: \",to_numpyArr)"
   ]
  }
 ],
 "metadata": {
  "kernelspec": {
   "display_name": "Python 3 (ipykernel)",
   "language": "python",
   "name": "python3"
  },
  "language_info": {
   "codemirror_mode": {
    "name": "ipython",
    "version": 3
   },
   "file_extension": ".py",
   "mimetype": "text/x-python",
   "name": "python",
   "nbconvert_exporter": "python",
   "pygments_lexer": "ipython3",
   "version": "3.12.4"
  }
 },
 "nbformat": 4,
 "nbformat_minor": 5
}
