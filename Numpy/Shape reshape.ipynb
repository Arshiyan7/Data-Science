{
 "cells": [
  {
   "cell_type": "code",
   "execution_count": 3,
   "id": "ceb2dede-15d3-4a3c-b054-98302c89f1b0",
   "metadata": {},
   "outputs": [
    {
     "data": {
      "text/plain": [
       "array([[ 1,  2,  3,  4],\n",
       "       [ 5,  6,  7,  8],\n",
       "       [ 9, 10, 11, 12]])"
      ]
     },
     "execution_count": 3,
     "metadata": {},
     "output_type": "execute_result"
    }
   ],
   "source": [
    "import numpy as np \n",
    "np1 = np.array([1,2,3,4,5,6,7,8,9,10,11,12])\n",
    "reshape_np1 = np1.reshape(3,4)\n",
    "reshape_np1"
   ]
  },
  {
   "cell_type": "code",
   "execution_count": 5,
   "id": "c1f58f88-8fd3-49b9-a61c-0f34d74c40b5",
   "metadata": {},
   "outputs": [
    {
     "data": {
      "text/plain": [
       "array([[[ 1,  2],\n",
       "        [ 3,  4],\n",
       "        [ 5,  6]],\n",
       "\n",
       "       [[ 7,  8],\n",
       "        [ 9, 10],\n",
       "        [11, 12]]])"
      ]
     },
     "execution_count": 5,
     "metadata": {},
     "output_type": "execute_result"
    }
   ],
   "source": [
    "reshaping_n4 = np1.reshape(2,3,2)\n",
    "reshaping_n4"
   ]
  },
  {
   "cell_type": "code",
   "execution_count": 6,
   "id": "de5ac45b-7170-4220-b971-1d96afa7fc91",
   "metadata": {},
   "outputs": [
    {
     "data": {
      "text/plain": [
       "array([ 1,  2,  3,  4,  5,  6,  7,  8,  9, 10, 11, 12])"
      ]
     },
     "execution_count": 6,
     "metadata": {},
     "output_type": "execute_result"
    }
   ],
   "source": [
    "reshaping_n4 = reshaping_n4.reshape(-1)\n",
    "reshaping_n4"
   ]
  },
  {
   "cell_type": "code",
   "execution_count": 12,
   "id": "7229aee9-b273-46a3-aaba-4c8e14a583a7",
   "metadata": {},
   "outputs": [
    {
     "name": "stdout",
     "output_type": "stream",
     "text": [
      "Shape of 1D: (12,)\n",
      "Shape of 2D: (2, 5)\n",
      "Shape of 3D: (1, 4, 3)\n",
      "Array [ 1  2  3  4  5  6  7  8  9 10 11 12] reshaped to 2D:\n",
      "[[ 1  2  3  4]\n",
      " [ 5  6  7  8]\n",
      " [ 9 10 11 12]]\n",
      "Array [ 1  2  3  4  5  6  7  8  9 10 11 12] reshaped to 3D:\n",
      "[[[ 1  2  3]\n",
      "  [ 4  5  6]]\n",
      "\n",
      " [[ 7  8  9]\n",
      "  [10 11 12]]]\n"
     ]
    }
   ],
   "source": [
    "one = np.array([1,2,3,4,5,6,7,8,9,10,11,12])\n",
    "two = np.array([[1,2,3,4,5],[6,7,8,9,10]])\n",
    "three = np.array([[[1,2,3],[4,5,6],[7,8,9],[10,11,12]]])\n",
    "print(f\"Shape of 1D: {one.shape}\\nShape of 2D: {two.shape}\\nShape of 3D: {three.shape}\")\n",
    "print(f'Array {one} reshaped to 2D:\\n{one.reshape(3,4)}')\n",
    "print(f'Array {one} reshaped to 3D:\\n{one.reshape(2,2,3)}')"
   ]
  }
 ],
 "metadata": {
  "kernelspec": {
   "display_name": "Python 3 (ipykernel)",
   "language": "python",
   "name": "python3"
  },
  "language_info": {
   "codemirror_mode": {
    "name": "ipython",
    "version": 3
   },
   "file_extension": ".py",
   "mimetype": "text/x-python",
   "name": "python",
   "nbconvert_exporter": "python",
   "pygments_lexer": "ipython3",
   "version": "3.12.4"
  }
 },
 "nbformat": 4,
 "nbformat_minor": 5
}
