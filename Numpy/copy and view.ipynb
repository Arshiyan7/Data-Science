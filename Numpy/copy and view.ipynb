{
 "cells": [
  {
   "cell_type": "code",
   "execution_count": 1,
   "id": "643158cc-1117-4454-8b56-f7c81943f64b",
   "metadata": {},
   "outputs": [
    {
     "name": "stdout",
     "output_type": "stream",
     "text": [
      "orignal array np1 [0 1 2 3 4 5]\n",
      "orignal array np2 [0 1 2 3 4 5]\n",
      "changed array np1 [40  1  2  3  4  5]\n",
      "changed array np2 [40  1  2  3  4  5]\n"
     ]
    }
   ],
   "source": [
    "import numpy as np \n",
    "#View array\n",
    "np1 = np.array([0,1,2,3,4,5])\n",
    "np2 = np1.view()\n",
    "print(f\"orignal array np1 {np1}\")\n",
    "print(f\"orignal array np2 {np2}\")\n",
    "\n",
    "np1[0] = 40\n",
    "print(f\"changed array np1 {np1}\")\n",
    "print(f\"changed array np2 {np2}\")"
   ]
  },
  {
   "cell_type": "code",
   "execution_count": 2,
   "id": "03fd0303-ed3d-4895-a12b-b93d378c61ad",
   "metadata": {},
   "outputs": [
    {
     "name": "stdout",
     "output_type": "stream",
     "text": [
      "orignal array np1 [0 1 2 3 4 5]\n",
      "orignal array np2 [0 1 2 3 4 5]\n",
      "changed array np1 [40  1  2  3  4  5]\n",
      "changed array np2 [0 1 2 3 4 5]\n"
     ]
    }
   ],
   "source": [
    "#copy array\n",
    "np1 = np.array([0,1,2,3,4,5])\n",
    "np2 = np1.copy()\n",
    "print(f\"orignal array np1 {np1}\")\n",
    "print(f\"orignal array np2 {np2}\")\n",
    "\n",
    "np1[0] = 40\n",
    "print(f\"changed array np1 {np1}\")\n",
    "print(f\"changed array np2 {np2}\")"
   ]
  },
  {
   "cell_type": "code",
   "execution_count": 3,
   "id": "5dbabf17-b5a5-4157-a495-5d81101efd88",
   "metadata": {},
   "outputs": [
    {
     "name": "stdout",
     "output_type": "stream",
     "text": [
      "orignal array np1 [0 1 2 3 4 5]\n",
      "orignal array np2 [0 1 2 3 4 5]\n",
      "changed array np1 [0 1 2 3 4 5]\n",
      "changed array np2 [40  1  2  3  4  5]\n"
     ]
    }
   ],
   "source": [
    "#View array\n",
    "np1 = np.array([0,1,2,3,4,5])\n",
    "np2 = np1.copy()\n",
    "print(f\"orignal array np1 {np1}\")\n",
    "print(f\"orignal array np2 {np2}\")\n",
    "\n",
    "np2[0] = 40\n",
    "print(f\"changed array np1 {np1}\")\n",
    "print(f\"changed array np2 {np2}\")"
   ]
  }
 ],
 "metadata": {
  "kernelspec": {
   "display_name": "Python 3 (ipykernel)",
   "language": "python",
   "name": "python3"
  },
  "language_info": {
   "codemirror_mode": {
    "name": "ipython",
    "version": 3
   },
   "file_extension": ".py",
   "mimetype": "text/x-python",
   "name": "python",
   "nbconvert_exporter": "python",
   "pygments_lexer": "ipython3",
   "version": "3.12.4"
  }
 },
 "nbformat": 4,
 "nbformat_minor": 5
}
