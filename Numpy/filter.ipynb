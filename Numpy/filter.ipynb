{
 "cells": [
  {
   "cell_type": "code",
   "execution_count": 2,
   "id": "5609ae21-4b94-4d1a-93a1-5b22c1896416",
   "metadata": {},
   "outputs": [
    {
     "name": "stdout",
     "output_type": "stream",
     "text": [
      "Filtered elements greater than 5: [16 17 18 19]\n"
     ]
    }
   ],
   "source": [
    "import numpy as np\n",
    "\n",
    "arr = np.array([1, 2, 3, 4, 5, 16, 17, 18, 19])\n",
    "filtered = arr[arr > 5]\n",
    "print(\"Filtered elements greater than 5:\", filtered)\n"
   ]
  },
  {
   "cell_type": "code",
   "execution_count": 3,
   "id": "278a86cd-6025-4bfc-9ff4-e2e5de0721a2",
   "metadata": {},
   "outputs": [
    {
     "name": "stdout",
     "output_type": "stream",
     "text": [
      "Filtered elements between 5 and 18: [16 17]\n"
     ]
    }
   ],
   "source": [
    "filtered = arr[(arr > 5) & (arr < 18)]\n",
    "print(\"Filtered elements between 5 and 18:\", filtered)\n"
   ]
  },
  {
   "cell_type": "code",
   "execution_count": 4,
   "id": "5773be53-9b31-4e0e-abb4-c40f4f5ab2d8",
   "metadata": {},
   "outputs": [
    {
     "name": "stdout",
     "output_type": "stream",
     "text": [
      "Even numbers: [2 4 6 8]\n"
     ]
    }
   ],
   "source": [
    "arr = np.array([1, 2, 3, 4, 5, 6, 7, 8, 9])\n",
    "even_numbers = arr[arr % 2 == 0]\n",
    "print(\"Even numbers:\", even_numbers)\n"
   ]
  },
  {
   "cell_type": "code",
   "execution_count": 5,
   "id": "d1a4f4f2-52f8-40c7-ac68-8fd9429e0538",
   "metadata": {},
   "outputs": [
    {
     "name": "stdout",
     "output_type": "stream",
     "text": [
      "Filtered 2D array elements greater than 10: [12 15 11]\n"
     ]
    }
   ],
   "source": [
    "arr_2d = np.array([[5, 12, 7], [15, 8, 3], [9, 10, 11]])\n",
    "filtered_2d = arr_2d[arr_2d > 10]\n",
    "print(\"Filtered 2D array elements greater than 10:\", filtered_2d)\n"
   ]
  }
 ],
 "metadata": {
  "kernelspec": {
   "display_name": "Python 3 (ipykernel)",
   "language": "python",
   "name": "python3"
  },
  "language_info": {
   "codemirror_mode": {
    "name": "ipython",
    "version": 3
   },
   "file_extension": ".py",
   "mimetype": "text/x-python",
   "name": "python",
   "nbconvert_exporter": "python",
   "pygments_lexer": "ipython3",
   "version": "3.12.4"
  }
 },
 "nbformat": 4,
 "nbformat_minor": 5
}
