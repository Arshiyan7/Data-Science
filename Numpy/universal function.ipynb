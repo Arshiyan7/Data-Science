{
 "cells": [
  {
   "cell_type": "code",
   "execution_count": 12,
   "id": "4b7fd373-52c0-46ad-bcfc-d4da128a7d98",
   "metadata": {},
   "outputs": [
    {
     "name": "stdout",
     "output_type": "stream",
     "text": [
      "absolute:  [1 2 3 0 1 2 3]\n",
      "exponent:  [ 0.36787944  0.13533528  0.04978707  1.          2.71828183  7.3890561\n",
      " 20.08553692]\n",
      "max:  3\n",
      "min:  -3\n",
      "sign - or +:  [-1 -1 -1  0  1  1  1]\n",
      "log:  [       nan        nan        nan       -inf 0.         0.69314718\n",
      " 1.09861229]\n",
      "sin:  [-0.84147098 -0.90929743 -0.14112001  0.          0.84147098  0.90929743\n",
      "  0.14112001]\n"
     ]
    },
    {
     "name": "stderr",
     "output_type": "stream",
     "text": [
      "C:\\Users\\hp\\AppData\\Local\\Temp\\ipykernel_16692\\3604752875.py:9: RuntimeWarning: divide by zero encountered in log\n",
      "  print(\"log: \",np.log(arr))\n",
      "C:\\Users\\hp\\AppData\\Local\\Temp\\ipykernel_16692\\3604752875.py:9: RuntimeWarning: invalid value encountered in log\n",
      "  print(\"log: \",np.log(arr))\n"
     ]
    }
   ],
   "source": [
    "import numpy as np\n",
    "arr = np.array([-1,-2,-3,0,1,2,3])\n",
    "arr\n",
    "print(\"absolute: \",np.absolute(arr))\n",
    "print(\"exponent: \",np.exp(arr))\n",
    "print(\"max: \",np.max(arr))\n",
    "print(\"min: \",np.min(arr))\n",
    "print(\"sign - or +: \",np.sign(arr))\n",
    "print(\"log: \",np.log(arr))\n",
    "print(\"sin: \",np.sin(arr))"
   ]
  }
 ],
 "metadata": {
  "kernelspec": {
   "display_name": "Python 3 (ipykernel)",
   "language": "python",
   "name": "python3"
  },
  "language_info": {
   "codemirror_mode": {
    "name": "ipython",
    "version": 3
   },
   "file_extension": ".py",
   "mimetype": "text/x-python",
   "name": "python",
   "nbconvert_exporter": "python",
   "pygments_lexer": "ipython3",
   "version": "3.12.4"
  }
 },
 "nbformat": 4,
 "nbformat_minor": 5
}
