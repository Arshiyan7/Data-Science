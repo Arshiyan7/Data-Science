{
 "cells": [
  {
   "cell_type": "code",
   "execution_count": null,
   "id": "c97497bb-1956-454b-b932-a1caf4e48b32",
   "metadata": {},
   "outputs": [
    {
     "ename": "",
     "evalue": "",
     "output_type": "error",
     "traceback": [
      "\u001b[1;31mRunning cells with 'Python 3.11.7' requires the ipykernel package.\n",
      "\u001b[1;31mRun the following command to install 'ipykernel' into the Python environment. \n",
      "\u001b[1;31mCommand: 'c:/msys64/ucrt64/bin/python.exe -m pip install ipykernel -U --user --force-reinstall'"
     ]
    }
   ],
   "source": [
    "import plotly.express as px # type: ignore\n",
    "import plotly.graph_objects as go"
   ]
  },
  {
   "cell_type": "code",
   "execution_count": null,
   "id": "82acb4ac-e285-4eb3-b2c1-a9ea51767d48",
   "metadata": {},
   "outputs": [],
   "source": [
    "#line plot\n",
    "df = px.data.gapminder().query(\"continent=='Oceania'\")\n",
    "fig = px.line(df, x=\"year\", y=\"lifeExp\", color='country')\n",
    "fig.show()"
   ]
  },
  {
   "cell_type": "code",
   "execution_count": null,
   "id": "7bf781b0-e105-4519-94bf-21f8b35fa1c1",
   "metadata": {},
   "outputs": [],
   "source": [
    "#line plot using add trace\n",
    "df = px.data.gapminder().query(\"continent == 'Asia'\")\n",
    "fig = px.line(df, x='year', y='pop', color='country', \n",
    "              title=\"Countries Population over Years\", markers=True)\n",
    "\n",
    "df_pak = df.query(\"country == 'Pakistan'\") \n",
    "fig.add_trace(go.Scatter(x=df_pak['year'], y=df_pak['pop'], \n",
    "                         mode='lines', name='Pakistan (Bold Line)',\n",
    "                         line=dict(width=4, color='navy')))"
   ]
  },
  {
   "cell_type": "code",
   "execution_count": null,
   "id": "13a2e852-bada-47ae-b901-2062f4ae7603",
   "metadata": {},
   "outputs": [],
   "source": [
    "df_ir = px.data.iris()\n",
    "fig = px.scatter(df_ir, x=\"sepal_width\", y=\"sepal_length\", color=\"species\",\n",
    "                 size='petal_length', hover_data=['petal_width'])\n",
    "fig"
   ]
  },
  {
   "cell_type": "code",
   "execution_count": null,
   "id": "e306d4e6-3372-4411-8a76-843cf98353f6",
   "metadata": {},
   "outputs": [],
   "source": [
    "df = px.data.tips()\n",
    "fig = px.scatter(df, x=\"total_bill\", y=\"tip\", color=\"smoker\", facet_col=\"sex\", facet_row=\"time\")\n",
    "fig.show()"
   ]
  },
  {
   "cell_type": "code",
   "execution_count": null,
   "id": "6799befc-885c-4a93-886f-feb79c04feb2",
   "metadata": {},
   "outputs": [],
   "source": [
    "#scatter plot\n",
    "df_cont = px.data.gapminder().query('year == 2007')\n",
    "fig = px.scatter(df_cont,x='gdpPercap',y='lifeExp',\n",
    "                 title=\"GDP vs Life Expectancy (2007)\",\n",
    "                 hover_name='country',size='pop',\n",
    "                 color='continent')\n",
    "fig.add_trace(go.Scatter(x=df_cont['gdpPercap'],y=df_cont['lifeExp'],\n",
    "                         mode='markers',marker=dict(size=8,color='red'),\n",
    "                         name='custom scatter'))"
   ]
  }
 ],
 "metadata": {
  "kernelspec": {
   "display_name": "Python 3",
   "language": "python",
   "name": "python3"
  },
  "language_info": {
   "codemirror_mode": {
    "name": "ipython",
    "version": 3
   },
   "file_extension": ".py",
   "mimetype": "text/x-python",
   "name": "python",
   "nbconvert_exporter": "python",
   "pygments_lexer": "ipython3",
   "version": "3.11.7"
  }
 },
 "nbformat": 4,
 "nbformat_minor": 5
}
