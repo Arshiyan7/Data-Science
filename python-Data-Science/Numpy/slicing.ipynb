{
 "cells": [
  {
   "cell_type": "code",
   "execution_count": 14,
   "id": "f07dfe76-4bad-46aa-b939-d8900961121d",
   "metadata": {},
   "outputs": [
    {
     "name": "stdout",
     "output_type": "stream",
     "text": [
      "Original Array: [ 10  20  30  40  50  60  70  80  90 100]\n",
      "1-5 elements of Array: [10 20 30 40 50]\n",
      "last three elements of Array: [ 80  90 100]\n",
      "every second elements of Array: [ 20  40  60  80 100]\n",
      "reverse of Array: [100  90  80  70  60  50  40  30  20  10]\n",
      "every second from 2-7 elements of Array: [30 50 70]\n"
     ]
    }
   ],
   "source": [
    "import numpy as np\n",
    "#1D array slicing practice\n",
    "arr = np.array([10, 20, 30, 40, 50, 60, 70, 80, 90, 100])\n",
    "print(\"Original Array:\", arr)\n",
    "print(\"1-5 elements of Array:\", arr[0:5])\n",
    "print(\"last three elements of Array:\", arr[-3:])\n",
    "print(\"every second elements of Array:\", arr[1::2])\n",
    "print(\"reverse of Array:\", arr[::-1])\n",
    "print(\"every second from 2-7 elements of Array:\", arr[2:7:2])"
   ]
  },
  {
   "cell_type": "code",
   "execution_count": 48,
   "id": "4e0d2003-53bf-47eb-9431-65c4b88647f3",
   "metadata": {},
   "outputs": [
    {
     "name": "stdout",
     "output_type": "stream",
     "text": [
      "Original 2D Array:\n",
      " [[ 1  2  3  4  5]\n",
      " [ 6  7  8  9 10]\n",
      " [11 12 13 14 15]\n",
      " [16 17 18 19 20]]\n",
      "first row of  2D Array:\n",
      " [[1 2 3 4 5]]\n",
      "last column 2D Array:\n",
      " [ 5 10 15 20]\n",
      "first two rows and first three columns 2D Array:\n",
      " [[1 2 3]\n",
      " [6 7 8]]\n",
      "all rows but only 2nd and 3rd column 2D Array:\n",
      " [[ 2  3]\n",
      " [ 7  8]\n",
      " [12 13]\n",
      " [17 18]]\n",
      "reverse rows of 2D Array:\n",
      " [[16 17 18 19 20]\n",
      " [11 12 13 14 15]\n",
      " [ 6  7  8  9 10]\n",
      " [ 1  2  3  4  5]]\n",
      "reverse column of 2D Array:\n",
      " [[ 5  4  3  2  1]\n",
      " [10  9  8  7  6]\n",
      " [15 14 13 12 11]\n",
      " [20 19 18 17 16]]\n"
     ]
    }
   ],
   "source": [
    "#2D array slicing practice, syntax-> [row slice, column slice]\n",
    "arr_2d = np.array([\n",
    "    [1, 2, 3, 4, 5],\n",
    "    [6, 7, 8, 9, 10],\n",
    "    [11, 12, 13, 14, 15],\n",
    "    [16, 17, 18, 19, 20]\n",
    "])\n",
    "\n",
    "print(\"Original 2D Array:\\n\", arr_2d)\n",
    "print(\"first row of  2D Array:\\n\", arr_2d[0:1])\n",
    "print(\"last column 2D Array:\\n\", arr_2d[:,-1])\n",
    "print(\"first two rows and first three columns 2D Array:\\n\", arr_2d[:2,:3])\n",
    "print(\"all rows but only 2nd and 3rd column 2D Array:\\n\", arr_2d[:,1:3])\n",
    "print(\"reverse rows of 2D Array:\\n\", arr_2d[::-1,:])\n",
    "print(\"reverse column of 2D Array:\\n\", arr_2d[:,::-1])"
   ]
  },
  {
   "cell_type": "code",
   "execution_count": 11,
   "id": "15ceddb9-9aee-4d5c-806a-6f1fffde24c5",
   "metadata": {},
   "outputs": [
    {
     "name": "stdout",
     "output_type": "stream",
     "text": [
      "1st layer:\n",
      "  [[1 2 3]\n",
      " [4 5 6]]\n",
      "Extracting row from a specific layer:\n",
      " [4 5 6]\n",
      "Extracting a specific element from a specific layer and row:\n",
      " 2\n",
      "Slicing across all layers, selecting specific rows and columns:\n",
      " [[[ 2  3]\n",
      "  [ 5  6]]\n",
      "\n",
      " [[ 8  9]\n",
      "  [11 12]]]\n"
     ]
    }
   ],
   "source": [
    "import numpy as np\n",
    "#3D array slicing\n",
    "array_3d = np.array([[[1, 2, 3], [4, 5, 6]],\n",
    "                     [[7, 8, 9], [10, 11, 12]]])\n",
    "array_3d\n",
    "print(\"1st layer:\\n \",array_3d[0])\n",
    "print(\"Extracting row from a specific layer:\\n\",array_3d[0,1])\n",
    "print(\"Extracting a specific element from a specific layer and row:\\n\",array_3d[0,0,1])\n",
    "print(\"Slicing across all layers, selecting specific rows and columns:\\n\",array_3d[:, 0:2, 1:3])\n"
   ]
  }
 ],
 "metadata": {
  "kernelspec": {
   "display_name": "Python 3 (ipykernel)",
   "language": "python",
   "name": "python3"
  },
  "language_info": {
   "codemirror_mode": {
    "name": "ipython",
    "version": 3
   },
   "file_extension": ".py",
   "mimetype": "text/x-python",
   "name": "python",
   "nbconvert_exporter": "python",
   "pygments_lexer": "ipython3",
   "version": "3.12.4"
  }
 },
 "nbformat": 4,
 "nbformat_minor": 5
}
