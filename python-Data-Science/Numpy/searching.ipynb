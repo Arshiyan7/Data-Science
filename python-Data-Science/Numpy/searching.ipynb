{
 "cells": [
  {
   "cell_type": "code",
   "execution_count": 2,
   "id": "c4351090-71db-465d-8fdf-dd8186b5d4d7",
   "metadata": {},
   "outputs": [
    {
     "name": "stdout",
     "output_type": "stream",
     "text": [
      "(array([5, 6, 7, 8], dtype=int64),)\n"
     ]
    }
   ],
   "source": [
    "import numpy as np \n",
    "arr = np.array([1,2,3,4,5,16,17,18,19])\n",
    "find = np.where(arr > 5)\n",
    "print(find)"
   ]
  },
  {
   "cell_type": "code",
   "execution_count": 11,
   "id": "2bb35dc7-cc98-4725-a6f2-25f4680e80c2",
   "metadata": {},
   "outputs": [
    {
     "name": "stdout",
     "output_type": "stream",
     "text": [
      "the indexes are:\n",
      "[5 6 7 8]\n",
      " and the numbers are:\n",
      "[16 17 18 19]\n"
     ]
    }
   ],
   "source": [
    "print(f'the indexes are:\\n{find[0]}\\n and the numbers are:\\n{arr[find[0]]}')"
   ]
  }
 ],
 "metadata": {
  "kernelspec": {
   "display_name": "Python 3 (ipykernel)",
   "language": "python",
   "name": "python3"
  },
  "language_info": {
   "codemirror_mode": {
    "name": "ipython",
    "version": 3
   },
   "file_extension": ".py",
   "mimetype": "text/x-python",
   "name": "python",
   "nbconvert_exporter": "python",
   "pygments_lexer": "ipython3",
   "version": "3.12.4"
  }
 },
 "nbformat": 4,
 "nbformat_minor": 5
}
