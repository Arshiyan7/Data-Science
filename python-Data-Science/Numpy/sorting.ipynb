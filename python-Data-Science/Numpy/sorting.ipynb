{
 "cells": [
  {
   "cell_type": "code",
   "execution_count": 2,
   "id": "1c8d3a6d-4f85-481d-b60b-aadeaa62ec2a",
   "metadata": {},
   "outputs": [
    {
     "name": "stdout",
     "output_type": "stream",
     "text": [
      "Orignal Array:  [ 2  3  1  4  5  8  7  9 10]\n",
      "Sorted Array:  [ 1  2  3  4  5  7  8  9 10]\n"
     ]
    }
   ],
   "source": [
    "import numpy as np \n",
    "arr = np.array([2,3,1,4,5,8,7,9,10])\n",
    "sorted_array = np.sort(arr)\n",
    "print(\"Orignal Array: \",arr)\n",
    "print(\"Sorted Array: \",sorted_array)"
   ]
  },
  {
   "cell_type": "code",
   "execution_count": 5,
   "id": "8bedf657-36f3-494e-86b9-19aed827adfa",
   "metadata": {},
   "outputs": [
    {
     "name": "stdout",
     "output_type": "stream",
     "text": [
      "Orignal Alphabetic Array:  ['Arshiyan' 'kashif' 'Babar' 'Hamza']\n",
      "Sorted Alphabetic Array:  ['Arshiyan' 'Babar' 'Hamza' 'kashif']\n"
     ]
    }
   ],
   "source": [
    "Alpha = np.array([\"Arshiyan\",\"kashif\",\"Babar\",\"Hamza\"])\n",
    "sorted_Alpha = np.sort(Alpha)\n",
    "print(\"Orignal Alphabetic Array: \",Alpha)\n",
    "print(\"Sorted Alphabetic Array: \",sorted_Alpha)"
   ]
  },
  {
   "cell_type": "code",
   "execution_count": 13,
   "id": "cf97c23a-97df-428b-9713-992ad53beb02",
   "metadata": {},
   "outputs": [
    {
     "name": "stdout",
     "output_type": "stream",
     "text": [
      "Odd:  21\n",
      "Odd:  11\n",
      "Even:  10\n",
      "Even:  14\n",
      "Odd:  15\n",
      "Odd:  9\n",
      "Even:  32\n",
      "Odd:  47\n",
      "Odd:  45\n",
      "Even:  50\n"
     ]
    }
   ],
   "source": [
    "arr = [21,11,10,14,15,9,32,47,45,50]\n",
    "for item in arr:\n",
    "    if item%2==0:\n",
    "        print(\"Even: \",item)\n",
    "    else:\n",
    "        print(\"Odd: \",item)"
   ]
  },
  {
   "cell_type": "code",
   "execution_count": null,
   "id": "dd5c5483-1de8-4e16-b147-96c10d75e146",
   "metadata": {},
   "outputs": [],
   "source": []
  }
 ],
 "metadata": {
  "kernelspec": {
   "display_name": "Python 3 (ipykernel)",
   "language": "python",
   "name": "python3"
  },
  "language_info": {
   "codemirror_mode": {
    "name": "ipython",
    "version": 3
   },
   "file_extension": ".py",
   "mimetype": "text/x-python",
   "name": "python",
   "nbconvert_exporter": "python",
   "pygments_lexer": "ipython3",
   "version": "3.12.4"
  }
 },
 "nbformat": 4,
 "nbformat_minor": 5
}
